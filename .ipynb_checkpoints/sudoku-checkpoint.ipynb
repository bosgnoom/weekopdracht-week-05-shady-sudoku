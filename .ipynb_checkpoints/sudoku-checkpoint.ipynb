{
 "cells": [
  {
   "cell_type": "markdown",
   "id": "eb4f6a60",
   "metadata": {},
   "source": [
    "Bit-Academy [community challenge](https://community-challenge.netlify.app/) &copy; Paul Schouten 2022\n",
    "\n",
    "# Saskia's Shady Sudoku\n",
    "\n",
    "Van kleins af aan is Jantje steeds net iets trager dan zijn zus in het oplossen van een sudoku. Het verschil wordt steeds kleiner, maar Saskia blijft ze steeds net wat eerder oplossen. Hij vermoedt eigenlijk dat zijn zus valsspeelt en maar gewoon wat invult. Een programma die input snel kan controleren is daarvoor de oplossing. Aan jou om dit te gaan maken!\n",
    "\n",
    "Zijn de spelregels nog onbekend? Kijk [hier](https://www.ultraboardgames.com/sudoku/nl/spel-regels.php) voor een overzicht.\n",
    "\n",
    "1. Controleer of alle rijen kloppen, horizontaal en verticaal. De input vind je in [sudoku.json](https://community-challenge.netlify.app/data/sudoku.json).\n",
    "2. Controleer nu ook of de \"hokjes\" van 3x3 kloppen.\n",
    "3. De familie de Jong maakt op zaterdag ook altijd de X-Sudoku. Dit zorgt voor extra constraints bij de sudoku. Dit betekent dat er ook in de twee diagonalen geen dubbele getallen voor mogen komen. De uitwerking van de puzzel van Saskia van afgelopen zaterdag vind je hier.\n",
    "4. Bonus: Controleren is een ding, maar wat nou als hij hem voor je kan invullen. Zorg ervoor dat je [deze sudoku](https://community-challenge.netlify.app/data/sudoku2Solve.json) nu automatisch in laat vullen en dat de correcte uitslag wordt getoond.\n",
    "\n"
   ]
  }
 ],
 "metadata": {
  "kernelspec": {
   "display_name": "Python 3 (ipykernel)",
   "language": "python",
   "name": "python3"
  },
  "language_info": {
   "codemirror_mode": {
    "name": "ipython",
    "version": 3
   },
   "file_extension": ".py",
   "mimetype": "text/x-python",
   "name": "python",
   "nbconvert_exporter": "python",
   "pygments_lexer": "ipython3",
   "version": "3.10.2"
  }
 },
 "nbformat": 4,
 "nbformat_minor": 5
}
