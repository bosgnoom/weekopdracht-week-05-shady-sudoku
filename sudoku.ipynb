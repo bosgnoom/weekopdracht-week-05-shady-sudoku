{
 "cells": [
  {
   "cell_type": "markdown",
   "id": "bcd288cf",
   "metadata": {},
   "source": [
    "Bit-Academy [community challenge](https://community-challenge.netlify.app/) &copy; Paul Schouten 2022\n",
    "\n",
    "# Saskia's Shady Sudoku\n",
    "\n",
    "Van kleins af aan is Jantje steeds net iets trager dan zijn zus in het oplossen van een sudoku. Het verschil wordt steeds kleiner, maar Saskia blijft ze steeds net wat eerder oplossen. Hij vermoedt eigenlijk dat zijn zus valsspeelt en maar gewoon wat invult. Een programma die input snel kan controleren is daarvoor de oplossing. Aan jou om dit te gaan maken!\n",
    "\n",
    "Zijn de spelregels nog onbekend? Kijk [hier](https://www.ultraboardgames.com/sudoku/nl/spel-regels.php) voor een overzicht.\n",
    "\n",
    "1. Controleer of alle rijen kloppen, horizontaal en verticaal. De input vind je in [sudoku.json](https://community-challenge.netlify.app/data/sudoku.json).\n",
    "2. Controleer nu ook of de \"hokjes\" van 3x3 kloppen.\n",
    "3. De familie de Jong maakt op zaterdag ook altijd de X-Sudoku. Dit zorgt voor extra constraints bij de sudoku. Dit betekent dat er ook in de twee diagonalen geen dubbele getallen voor mogen komen. De uitwerking van de puzzel van Saskia van afgelopen zaterdag vind je hier.\n",
    "4. Bonus: Controleren is een ding, maar wat nou als hij hem voor je kan invullen. Zorg ervoor dat je [deze sudoku](https://community-challenge.netlify.app/data/sudoku2Solve.json) nu automatisch in laat vullen en dat de correcte uitslag wordt getoond.\n"
   ]
  },
  {
   "cell_type": "code",
   "execution_count": 1,
   "id": "0b225860",
   "metadata": {},
   "outputs": [],
   "source": [
    "# Eerst de sudoku van Saskia ophalen\n",
    "import requests\n",
    "\n",
    "url = 'https://community-challenge.netlify.app/data/sudoku.json'\n",
    "r = requests.get(url)\n",
    "\n",
    "sudoku = r.json()[\"sudoku\"]\n"
   ]
  },
  {
   "cell_type": "markdown",
   "id": "cc04c28b",
   "metadata": {},
   "source": [
    "## 1. Controleer de rijen en kolommen\n",
    "\n",
    "Volgens de regels mag op iedere rij en in iedere kolom maar één keer het getal 1 tot en met 9 voorkomen. De gekozen methode is om de lengte van de `set` van een rij (of kolom) uit te rekenen. In een set kan ieder item maar 1 keer voorkomen. Een correcte rij zal dus een lengte van 9 hebben."
   ]
  },
  {
   "cell_type": "code",
   "execution_count": 2,
   "id": "222c0994",
   "metadata": {},
   "outputs": [
    {
     "name": "stdout",
     "output_type": "stream",
     "text": [
      "Rijen controleren\n",
      "[2, 5, 6, 8, 9, 1, 4, 7, 3] -->  \u001b[92mOK\u001b[0m\n",
      "[3, 4, 9, 7, 2, 6, 8, 5, 1] -->  \u001b[92mOK\u001b[0m\n",
      "[8, 7, 1, 3, 4, 5, 9, 2, 6] -->  \u001b[92mOK\u001b[0m\n",
      "[6, 8, 3, 2, 5, 4, 1, 9, 7] -->  \u001b[92mOK\u001b[0m\n",
      "[9, 1, 5, 6, 8, 7, 3, 4, 2] -->  \u001b[92mOK\u001b[0m\n",
      "[4, 2, 7, 9, 1, 3, 5, 6, 8] -->  \u001b[92mOK\u001b[0m\n",
      "[7, 6, 4, 5, 3, 8, 2, 1, 9] -->  \u001b[92mOK\u001b[0m\n",
      "[1, 3, 2, 4, 7, 9, 6, 8, 5] -->  \u001b[92mOK\u001b[0m\n",
      "[5, 9, 8, 1, 6, 2, 7, 3, 4] -->  \u001b[92mOK\u001b[0m\n",
      "\n",
      "Kolommen controleren\n",
      "[2, 3, 8, 6, 9, 4, 7, 1, 5] -->  \u001b[92mOK\u001b[0m\n",
      "[5, 4, 7, 8, 1, 2, 6, 3, 9] -->  \u001b[92mOK\u001b[0m\n",
      "[6, 9, 1, 3, 5, 7, 4, 2, 8] -->  \u001b[92mOK\u001b[0m\n",
      "[8, 7, 3, 2, 6, 9, 5, 4, 1] -->  \u001b[92mOK\u001b[0m\n",
      "[9, 2, 4, 5, 8, 1, 3, 7, 6] -->  \u001b[92mOK\u001b[0m\n",
      "[1, 6, 5, 4, 7, 3, 8, 9, 2] -->  \u001b[92mOK\u001b[0m\n",
      "[4, 8, 9, 1, 3, 5, 2, 6, 7] -->  \u001b[92mOK\u001b[0m\n",
      "[7, 5, 2, 9, 4, 6, 1, 8, 3] -->  \u001b[92mOK\u001b[0m\n",
      "[3, 1, 6, 7, 2, 8, 9, 5, 4] -->  \u001b[92mOK\u001b[0m\n"
     ]
    }
   ],
   "source": [
    "# ANSI codes, resultaat kleur geven\n",
    "rood = '\\x1b[91m'\n",
    "groen = '\\x1b[92m'\n",
    "zwart = '\\x1b[0m'\n",
    "\n",
    "# Controleer of de rij 9 unieke items bevat\n",
    "def controleer(rij):\n",
    "    uniek = set(rij)\n",
    "    return len(uniek) == 9\n",
    "\n",
    "\n",
    "# Eerst de rijen controleren\n",
    "print('Rijen controleren')\n",
    "for rij in sudoku:\n",
    "    print(f'{rij} --> ', end=' ')\n",
    "    if controleer(rij):\n",
    "        print(f'{groen}OK{zwart}')\n",
    "    else:\n",
    "        print(f'{rood}Fout!{zwart}')\n",
    "\n",
    "        \n",
    "# Nu de kolommen,\n",
    "# Slicer maken om door de list-of-list te komen\n",
    "print('\\nKolommen controleren')\n",
    "for i in range(9):\n",
    "    kolom = [ sudoku[j][i] for j in range(9)]\n",
    "    print(f'{kolom} --> ', end=' ')\n",
    "    if controleer(kolom):\n",
    "        print(f'{groen}OK{zwart}')\n",
    "    else:\n",
    "        print(f'{rood}Fout!{zwart}')"
   ]
  },
  {
   "cell_type": "markdown",
   "id": "7d8c2f57",
   "metadata": {},
   "source": [
    "## 2. Controleer de 3x3 hokjes\n",
    "\n",
    "Bovenstaand zijn de rijen en kolommen gecontroleerd. Nu worden de 3x3 hokjes gecontroleerd. Ook hier wordt de lengte van de set gebruikt. Welke elementen van de rijen en kolommen beoordeeld moeten worden:\n",
    "\n",
    "- Sudoku opsplitsen in 3x3\n",
    "    - (1, 1) &rarr; (1,1), (1,2), (1,3), (2,1), (2,2), (2,3), (3,1), (3,2), (3,3)\n"
   ]
  },
  {
   "cell_type": "code",
   "execution_count": 3,
   "id": "d8698142",
   "metadata": {},
   "outputs": [
    {
     "name": "stdout",
     "output_type": "stream",
     "text": [
      "[2, 5, 6, 3, 4, 9, 8, 7, 1] --> \u001b[92mOK\u001b[0m\n",
      "[6, 8, 3, 9, 1, 5, 4, 2, 7] --> \u001b[92mOK\u001b[0m\n",
      "[7, 6, 4, 1, 3, 2, 5, 9, 8] --> \u001b[92mOK\u001b[0m\n",
      "[8, 9, 1, 7, 2, 6, 3, 4, 5] --> \u001b[92mOK\u001b[0m\n",
      "[2, 5, 4, 6, 8, 7, 9, 1, 3] --> \u001b[92mOK\u001b[0m\n",
      "[5, 3, 8, 4, 7, 9, 1, 6, 2] --> \u001b[92mOK\u001b[0m\n",
      "[4, 7, 3, 8, 5, 1, 9, 2, 6] --> \u001b[92mOK\u001b[0m\n",
      "[1, 9, 7, 3, 4, 2, 5, 6, 8] --> \u001b[92mOK\u001b[0m\n",
      "[2, 1, 9, 6, 8, 5, 7, 3, 4] --> \u001b[92mOK\u001b[0m\n"
     ]
    }
   ],
   "source": [
    "# Hokjes 3x3 controleren\n",
    "# Buitenste 2 loops zijn de 3x3 hokjes\n",
    "for kolom in range(3):\n",
    "    for rij in range(3):\n",
    "        # Binnenste 2 loops zijn de elementen van één hokje\n",
    "        # TODO: refactor naar list comprehension, loop in loop\n",
    "        hokje = []\n",
    "        for i in range(3):\n",
    "            for j in range(3):\n",
    "                hokje.append(sudoku[3*rij + i][3*kolom + j])\n",
    "        print(f'{hokje} -->', end=' ')\n",
    "        if controleer(hokje):\n",
    "            print(f'{groen}OK{zwart}')\n",
    "        else:\n",
    "            print(f'{rood}Fout!{zwart}')\n"
   ]
  },
  {
   "cell_type": "markdown",
   "id": "5e1ef87d",
   "metadata": {},
   "source": [
    "## 3. X-Sudoku\n",
    "\n",
    "Naast de rijen, kolommen en hokjes worden nu ook de diagonalen gecontroleerd."
   ]
  },
  {
   "cell_type": "code",
   "execution_count": 4,
   "id": "b482da5b",
   "metadata": {},
   "outputs": [
    {
     "name": "stdout",
     "output_type": "stream",
     "text": [
      "[2, 4, 1, 2, 8, 3, 2, 8, 4]--> \u001b[91mFout!\u001b[0m\n",
      "[5, 3, 4, 9, 8, 4, 9, 5, 3]--> \u001b[91mFout!\u001b[0m\n"
     ]
    }
   ],
   "source": [
    "# Diagonalen controleren, eerst links boven naar rechts beneden\n",
    "diagonaal_1 = [ sudoku[i][i] for i in range(9) ]\n",
    "print(f'{diagonaal_1}-->', end=' ')\n",
    "if controleer(diagonaal_1):\n",
    "    print(f'{groen}OK{zwart}')\n",
    "else:\n",
    "    print(f'{rood}Fout!{zwart}')\n",
    "    \n",
    "# Nu links onder naar rechts boven\n",
    "diagonaal_2 = [ sudoku[8-i][i] for i in range(9) ]\n",
    "print(f'{diagonaal_2}-->', end=' ')\n",
    "if controleer(diagonaal_2):\n",
    "    print(f'{groen}OK{zwart}')\n",
    "else:\n",
    "    print(f'{rood}Fout!{zwart}')"
   ]
  },
  {
   "cell_type": "markdown",
   "id": "d398b704",
   "metadata": {},
   "source": [
    "Saskia's sudoku is correct opgelost, maar is geen X-Sudoku. \n",
    "\n",
    "## 4. Sudoku oplossen\n",
    "\n",
    "De familie de Jong kan wat hulp gebruiken bij de zaterdag-editie. Onderstaand wordt de aangeleverde sudoku eerst opgehaald en opgelost. De plaatsen waar een `0` staat, moeten nog ingevuld worden. Hieronder is te zien dat er in totaal nog 43 (van de 81) getallen ingevuld moeten worden. \n",
    "\n",
    "Nu is het zaak om een goede methode te verzinnen om een sudoku op te lossen. Een keus zou _brute force_ zijn, waar alle mogelijke combinaties getest worden totdat er een oplossing gevonden is. Alleen, dit zou betekenen dat er 9^43 sudoku's getest moeten worden. Zelfs met een supercomputer die een miljard mogelijkheden per seconde zou kunnen doorrekenen, zou het een eeuwigheid duren voordat het antwoord gevonden is. \n",
    "\n",
    "Tijdens het oplossen van de [AIVD Junior Kerstpuzzel](https://www.aivd.nl/documenten/publicaties/2021/12/14/aivd-juniorkerstpuzzel-2021-opgaven--en-antwoordformulier) heb ik een Python module gebruikt: `constraint`. Deze kan ook ingezet worden om een sudoku op te lossen. "
   ]
  },
  {
   "cell_type": "code",
   "execution_count": 18,
   "id": "dcc4145f",
   "metadata": {},
   "outputs": [
    {
     "name": "stdout",
     "output_type": "stream",
     "text": [
      "Er moeten nog 43 getallen ingevuld worden\n",
      "Dit zijn 107752636643058178097424660240453423951129 mogelijke oplossingen. Brute force is niet mogelijk hier...\n"
     ]
    }
   ],
   "source": [
    "# Eerst de sudoku van Saskia ophalen\n",
    "import requests\n",
    "\n",
    "url = 'https://community-challenge.netlify.app/data/sudoku2Solve.json'\n",
    "r = requests.get(url)\n",
    "\n",
    "sudoku = r.json()[\"sudokuSolve\"]\n",
    "\n",
    "# Hoeveel getallen missen er?\n",
    "ravel = [ sudoku[i][j] for i in range(9) for j in range(9)]\n",
    "print(f'Er moeten nog {ravel.count(0)} getallen ingevuld worden')\n",
    "print(f'Dit zijn {9**43} mogelijke oplossingen. Brute force is niet mogelijk hier...')\n"
   ]
  },
  {
   "cell_type": "code",
   "execution_count": null,
   "id": "7776d336",
   "metadata": {},
   "outputs": [],
   "source": []
  }
 ],
 "metadata": {
  "kernelspec": {
   "display_name": "Python 3 (ipykernel)",
   "language": "python",
   "name": "python3"
  },
  "language_info": {
   "codemirror_mode": {
    "name": "ipython",
    "version": 3
   },
   "file_extension": ".py",
   "mimetype": "text/x-python",
   "name": "python",
   "nbconvert_exporter": "python",
   "pygments_lexer": "ipython3",
   "version": "3.10.2"
  }
 },
 "nbformat": 4,
 "nbformat_minor": 5
}
