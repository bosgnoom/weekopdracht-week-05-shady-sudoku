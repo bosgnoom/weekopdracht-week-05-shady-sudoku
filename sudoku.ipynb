{
 "cells": [
  {
   "cell_type": "markdown",
   "id": "2fbf1b23",
   "metadata": {},
   "source": [
    "Bit-Academy [community challenge](https://community-challenge.netlify.app/) &copy; Paul Schouten 2022\n",
    "\n",
    "# Saskia's Shady Sudoku\n",
    "\n",
    "Van kleins af aan is Jantje steeds net iets trager dan zijn zus in het oplossen van een sudoku. Het verschil wordt steeds kleiner, maar Saskia blijft ze steeds net wat eerder oplossen. Hij vermoedt eigenlijk dat zijn zus valsspeelt en maar gewoon wat invult. Een programma die input snel kan controleren is daarvoor de oplossing. Aan jou om dit te gaan maken!\n",
    "\n",
    "Zijn de spelregels nog onbekend? Kijk [hier](https://www.ultraboardgames.com/sudoku/nl/spel-regels.php) voor een overzicht.\n",
    "\n",
    "1. Controleer of alle rijen kloppen, horizontaal en verticaal. De input vind je in [sudoku.json](https://community-challenge.netlify.app/data/sudoku.json).\n",
    "2. Controleer nu ook of de \"hokjes\" van 3x3 kloppen.\n",
    "3. De familie de Jong maakt op zaterdag ook altijd de X-Sudoku. Dit zorgt voor extra constraints bij de sudoku. Dit betekent dat er ook in de twee diagonalen geen dubbele getallen voor mogen komen. De uitwerking van de puzzel van Saskia van afgelopen zaterdag vind je [hier](https://community-challenge.netlify.app/data/sudoku.json).\n",
    "4. **Bonus**: Controleren is een ding, maar wat nou als hij hem voor je kan invullen. Zorg ervoor dat je [deze sudoku](https://community-challenge.netlify.app/data/sudoku2Solve.json) nu automatisch in laat vullen en dat de correcte uitslag wordt getoond.\n"
   ]
  },
  {
   "cell_type": "code",
   "execution_count": 1,
   "id": "0f2d9a1b",
   "metadata": {},
   "outputs": [],
   "source": [
    "# De ingevulde sudoku van Saskia ophalen\n",
    "import requests\n",
    "\n",
    "url = 'https://community-challenge.netlify.app/data/sudoku.json'\n",
    "r = requests.get(url)\n",
    "\n",
    "sudoku = r.json()[\"sudoku\"]\n"
   ]
  },
  {
   "cell_type": "markdown",
   "id": "a0d92035",
   "metadata": {},
   "source": [
    "## 1. Controleer de rijen en kolommen\n",
    "\n",
    "Volgens de regels mag op iedere rij en in iedere kolom maar één keer het getal 1 tot en met 9 voorkomen. De gekozen methode is om de lengte van de `set` van een rij (of kolom) uit te rekenen. In een set kan ieder item maar 1 keer voorkomen. Een correcte rij zal dus een lengte van 9 hebben. Bij dubbele getallen zal de set minder items bevatten. Deze rij is dan incorrect."
   ]
  },
  {
   "cell_type": "code",
   "execution_count": 2,
   "id": "fd6a4ca0",
   "metadata": {},
   "outputs": [
    {
     "name": "stdout",
     "output_type": "stream",
     "text": [
      "Rijen controleren\n",
      "[2, 5, 6, 8, 9, 1, 4, 7, 3] -->  \u001b[92mOK\u001b[0m\n",
      "[3, 4, 9, 7, 2, 6, 8, 5, 1] -->  \u001b[92mOK\u001b[0m\n",
      "[8, 7, 1, 3, 4, 5, 9, 2, 6] -->  \u001b[92mOK\u001b[0m\n",
      "[6, 8, 3, 2, 5, 4, 1, 9, 7] -->  \u001b[92mOK\u001b[0m\n",
      "[9, 1, 5, 6, 8, 7, 3, 4, 2] -->  \u001b[92mOK\u001b[0m\n",
      "[4, 2, 7, 9, 1, 3, 5, 6, 8] -->  \u001b[92mOK\u001b[0m\n",
      "[7, 6, 4, 5, 3, 8, 2, 1, 9] -->  \u001b[92mOK\u001b[0m\n",
      "[1, 3, 2, 4, 7, 9, 6, 8, 5] -->  \u001b[92mOK\u001b[0m\n",
      "[5, 9, 8, 1, 6, 2, 7, 3, 4] -->  \u001b[92mOK\u001b[0m\n",
      "\n",
      "Kolommen controleren\n",
      "[2, 3, 8, 6, 9, 4, 7, 1, 5] -->  \u001b[92mOK\u001b[0m\n",
      "[5, 4, 7, 8, 1, 2, 6, 3, 9] -->  \u001b[92mOK\u001b[0m\n",
      "[6, 9, 1, 3, 5, 7, 4, 2, 8] -->  \u001b[92mOK\u001b[0m\n",
      "[8, 7, 3, 2, 6, 9, 5, 4, 1] -->  \u001b[92mOK\u001b[0m\n",
      "[9, 2, 4, 5, 8, 1, 3, 7, 6] -->  \u001b[92mOK\u001b[0m\n",
      "[1, 6, 5, 4, 7, 3, 8, 9, 2] -->  \u001b[92mOK\u001b[0m\n",
      "[4, 8, 9, 1, 3, 5, 2, 6, 7] -->  \u001b[92mOK\u001b[0m\n",
      "[7, 5, 2, 9, 4, 6, 1, 8, 3] -->  \u001b[92mOK\u001b[0m\n",
      "[3, 1, 6, 7, 2, 8, 9, 5, 4] -->  \u001b[92mOK\u001b[0m\n"
     ]
    }
   ],
   "source": [
    "# ANSI codes, resultaat kleur geven\n",
    "rood = '\\x1b[91m'\n",
    "groen = '\\x1b[92m'\n",
    "zwart = '\\x1b[0m'\n",
    "\n",
    "# Controleer of de rij 9 unieke items bevat\n",
    "def controleer(rij):\n",
    "    uniek = set(rij)\n",
    "    return len(uniek) == 9\n",
    "\n",
    "\n",
    "# Eerst de rijen controleren\n",
    "print('Rijen controleren')\n",
    "for rij in sudoku:\n",
    "    print(f'{rij} --> ', end=' ')\n",
    "    if controleer(rij):\n",
    "        print(f'{groen}OK{zwart}')\n",
    "    else:\n",
    "        print(f'{rood}Fout!{zwart}')\n",
    "\n",
    "        \n",
    "# Nu de kolommen,\n",
    "# Slicer maken om door de list-of-list te komen\n",
    "print('\\nKolommen controleren')\n",
    "for i in range(9):\n",
    "    kolom = [ sudoku[j][i] for j in range(9)]\n",
    "    print(f'{kolom} --> ', end=' ')\n",
    "    if controleer(kolom):\n",
    "        print(f'{groen}OK{zwart}')\n",
    "    else:\n",
    "        print(f'{rood}Fout!{zwart}')"
   ]
  },
  {
   "cell_type": "markdown",
   "id": "be7b5453",
   "metadata": {},
   "source": [
    "## 2. Controleer de 3x3 hokjes\n",
    "\n",
    "Bovenstaand zijn de rijen en kolommen gecontroleerd. Nu worden de 3x3 hokjes gecontroleerd. Ook hier wordt de lengte van de set gebruikt. De 3x3 hokjes worden gecontroleerd door een buitenste loop (eigenlijk 2, `kolom` en `rij`). Ieder 3x3 hokje wordt opgezocht met een list comprehension."
   ]
  },
  {
   "cell_type": "code",
   "execution_count": 3,
   "id": "bc939b81",
   "metadata": {},
   "outputs": [
    {
     "name": "stdout",
     "output_type": "stream",
     "text": [
      "[2, 5, 6, 3, 4, 9, 8, 7, 1] --> \u001b[92mOK\u001b[0m\n",
      "[6, 8, 3, 9, 1, 5, 4, 2, 7] --> \u001b[92mOK\u001b[0m\n",
      "[7, 6, 4, 1, 3, 2, 5, 9, 8] --> \u001b[92mOK\u001b[0m\n",
      "[8, 9, 1, 7, 2, 6, 3, 4, 5] --> \u001b[92mOK\u001b[0m\n",
      "[2, 5, 4, 6, 8, 7, 9, 1, 3] --> \u001b[92mOK\u001b[0m\n",
      "[5, 3, 8, 4, 7, 9, 1, 6, 2] --> \u001b[92mOK\u001b[0m\n",
      "[4, 7, 3, 8, 5, 1, 9, 2, 6] --> \u001b[92mOK\u001b[0m\n",
      "[1, 9, 7, 3, 4, 2, 5, 6, 8] --> \u001b[92mOK\u001b[0m\n",
      "[2, 1, 9, 6, 8, 5, 7, 3, 4] --> \u001b[92mOK\u001b[0m\n"
     ]
    }
   ],
   "source": [
    "# Hokjes 3x3 controleren\n",
    "# Buitenste 2 loops zijn de 3x3 hokjes\n",
    "for kolom in range(3):\n",
    "    for rij in range(3):\n",
    "        # In _hokje_ komen de 9 getallen van het betreffende hokje\n",
    "        hokje = [ sudoku[3*rij + i][3*kolom + j] for i in range(3) for j in range(3) ]\n",
    "        print(f'{hokje} -->', end=' ')\n",
    "        if controleer(hokje):\n",
    "            print(f'{groen}OK{zwart}')\n",
    "        else:\n",
    "            print(f'{rood}Fout!{zwart}')\n"
   ]
  },
  {
   "cell_type": "markdown",
   "id": "cec6434a",
   "metadata": {},
   "source": [
    "## 3. X-Sudoku\n",
    "\n",
    "Naast de rijen, kolommen en hokjes worden nu ook de diagonalen gecontroleerd."
   ]
  },
  {
   "cell_type": "code",
   "execution_count": 4,
   "id": "b81fa907",
   "metadata": {},
   "outputs": [
    {
     "name": "stdout",
     "output_type": "stream",
     "text": [
      "[2, 4, 1, 2, 8, 3, 2, 8, 4]--> \u001b[91mFout!\u001b[0m\n",
      "[5, 3, 4, 9, 8, 4, 9, 5, 3]--> \u001b[91mFout!\u001b[0m\n"
     ]
    }
   ],
   "source": [
    "# Diagonalen controleren, eerst links boven naar rechts beneden\n",
    "diagonaal_1 = [ sudoku[i][i] for i in range(9) ]\n",
    "print(f'{diagonaal_1}-->', end=' ')\n",
    "if controleer(diagonaal_1):\n",
    "    print(f'{groen}OK{zwart}')\n",
    "else:\n",
    "    print(f'{rood}Fout!{zwart}')\n",
    "    \n",
    "# Nu links onder naar rechts boven\n",
    "diagonaal_2 = [ sudoku[8-i][i] for i in range(9) ]\n",
    "print(f'{diagonaal_2}-->', end=' ')\n",
    "if controleer(diagonaal_2):\n",
    "    print(f'{groen}OK{zwart}')\n",
    "else:\n",
    "    print(f'{rood}Fout!{zwart}')\n"
   ]
  },
  {
   "cell_type": "markdown",
   "id": "ed5e4851",
   "metadata": {},
   "source": [
    "Saskia's sudoku is correct opgelost, maar is geen X-Sudoku. \n",
    "\n",
    "## 4. Sudoku oplossen\n",
    "\n",
    "De familie de Jong kan wat hulp gebruiken bij het oplossen van sudoku's. Onderstaand wordt de aangeleverde sudoku eerst opgehaald en daarna opgelost. De plaatsen waar een `0` staat, moeten nog ingevuld worden. Hieronder is te zien dat er in totaal nog 43 (van de 81) getallen ingevuld moeten worden. \n",
    "\n",
    "Nu is het zaak om een goede methode te verzinnen om een sudoku op te lossen. Een keus zou _brute force_ zijn, waar alle mogelijke combinaties getest worden totdat er een oplossing gevonden is. Alleen, dit zou betekenen dat er 9<sup>43</sup> sudoku's getest moeten worden. Zelfs met een supercomputer die een miljard miljard (als in 10<sup>18</sup>) mogelijkheden per seconde zou kunnen doorrekenen, zou het een eeuwigheid duren voordat het antwoord gevonden is. \n"
   ]
  },
  {
   "cell_type": "code",
   "execution_count": 5,
   "id": "cd2693a4",
   "metadata": {},
   "outputs": [
    {
     "name": "stdout",
     "output_type": "stream",
     "text": [
      "Gevonden sudoku:\n",
      "[[0, 0, 2, 0, 0, 0, 0, 0, 5],\n",
      " [3, 0, 0, 0, 5, 6, 0, 0, 0],\n",
      " [1, 8, 5, 0, 4, 2, 6, 7, 3],\n",
      " [0, 0, 0, 0, 0, 8, 7, 6, 0],\n",
      " [0, 0, 9, 7, 0, 0, 3, 0, 0],\n",
      " [8, 0, 7, 0, 0, 1, 0, 0, 9],\n",
      " [0, 9, 6, 2, 8, 3, 0, 1, 7],\n",
      " [2, 0, 8, 0, 0, 0, 0, 0, 6],\n",
      " [0, 5, 3, 0, 0, 9, 8, 2, 0]]\n",
      "\n",
      "Er moeten nog 43 getallen ingevuld worden\n",
      "Dit zijn 107752636643058178097424660240453423951129 mogelijke oplossingen. Brute force gaat niet helpen hier...\n"
     ]
    }
   ],
   "source": [
    "# Eerst de sudoku van de familie de Jong ophalen\n",
    "import requests\n",
    "import pprint\n",
    "\n",
    "url = 'https://community-challenge.netlify.app/data/sudoku2Solve.json'\n",
    "r = requests.get(url)\n",
    "\n",
    "sudoku_deJong = r.json()[\"sudokuSolve\"]\n",
    "\n",
    "print('Gevonden sudoku:')\n",
    "pprint.pprint(sudoku_deJong)\n",
    "\n",
    "# Hoeveel getallen missen er?\n",
    "ravel = [ sudoku_deJong[i][j] for i in range(9) for j in range(9)]\n",
    "print(f'\\nEr moeten nog {ravel.count(0)} getallen ingevuld worden')\n",
    "print(f'Dit zijn {9**ravel.count(0)} mogelijke oplossingen. Brute force gaat niet helpen hier...')\n"
   ]
  },
  {
   "cell_type": "markdown",
   "id": "b5bfb5f1",
   "metadata": {},
   "source": [
    "Tijdens het oplossen van de [AIVD Junior Kerstpuzzel](https://www.aivd.nl/documenten/publicaties/2021/12/14/aivd-juniorkerstpuzzel-2021-opgaven--en-antwoordformulier) heb ik een Python module gebruikt: `constraint`. Met deze module kan op een functionele manier geprogrammeerd worden. Dit is een manier van programmeren waarbij het vraagstuk (en het gewenste antwoord) beschreven worden en minder _hoe_ dit opgelost moet worden. Deze module kan ook ingezet worden om een sudoku op te lossen. De uitwerking staat hier beneden."
   ]
  },
  {
   "cell_type": "code",
   "execution_count": 6,
   "id": "c5bc4fc3",
   "metadata": {},
   "outputs": [
    {
     "name": "stdout",
     "output_type": "stream",
     "text": [
      "Aantal oplossingen: 1\n",
      "962 837 145 \n",
      "374 156 298 \n",
      "185 942 673 \n",
      "\n",
      "531 498 762 \n",
      "649 725 381 \n",
      "827 361 459 \n",
      "\n",
      "496 283 517 \n",
      "218 574 936 \n",
      "753 619 824 \n",
      "\n"
     ]
    }
   ],
   "source": [
    "# Met constraint programming aan de slag\n",
    "import constraint\n",
    "\n",
    "def sudoku_oplossen(sudokuSolve, diagonaal=False):\n",
    "    # Beginnen met constraint.Problem()\n",
    "    sudoku = constraint.Problem()\n",
    "\n",
    "    # Iedere cel in de sudoku krijgt een coördinaat:\n",
    "    # linksboven = 11, rechtsonder = 99\n",
    "    # Tussendoor staan print() commands, deze ter controle of de juiste\n",
    "    # coördinaten berekend worden. Rekenen is leuk!\n",
    "    \n",
    "    # Coördinaten\n",
    "    for rij in range(1, 10):\n",
    "        rijen = range(10*rij + 1, 10*rij + 10)\n",
    "        #print(list(rijen))\n",
    "        # Toevoegen van variabelen aan Problem,\n",
    "        # iedere variabele kan 1-9 zijn\n",
    "        sudoku.addVariables(rijen, range(1, 10))\n",
    "\n",
    "    # Iedere rij moet unieke getallen bevatten\n",
    "    for rij in range(1, 10):\n",
    "        rijen = range(10*rij + 1, 10*rij + 10)\n",
    "        sudoku.addConstraint(constraint.AllDifferentConstraint(),\n",
    "                                rijen)\n",
    "\n",
    "    # Iedere kolom moet unieke getallen bevatten\n",
    "    for kolom in range(1, 10):\n",
    "        kolommen = range(10 + kolom, 100 + kolom, 10)\n",
    "        #print(list(kolommen))\n",
    "        sudoku.addConstraint(constraint.AllDifferentConstraint(),\n",
    "                                kolommen)\n",
    "\n",
    "    # Iedere hokje van 3x3 moet unieke getallen bevatten\n",
    "    for hokje_kolom in range(3):\n",
    "        for hokje_rij in range(3):\n",
    "            #          <     hier de 3x3 hokjes     >  <hier in de hokjes>\n",
    "            cellen = [ (30*hokje_rij + 3*hokje_kolom) + (10*rij + kolom) \n",
    "                              for rij in range(1, 4) for kolom in range(1, 4)]\n",
    "            #print(cellen)\n",
    "            sudoku.addConstraint(constraint.AllDifferentConstraint(),\n",
    "                                cellen)\n",
    "\n",
    "    # Optioneel niet: Iedere diagonaal moet unieke getallen bevatten\n",
    "    if diagonaal:\n",
    "        # Linksboven naar rechtsonder\n",
    "        cellen = [ 10*i + i for i in range(1, 10) ]\n",
    "        sudoku.addConstraint(constraint.AllDifferentConstraint(),\n",
    "                            cellen)\n",
    "        #print(cellen)\n",
    "\n",
    "        # Rechtsonder naar linksboven\n",
    "        cellen = [ 10*(10-i) + i for i in range(1, 10) ]\n",
    "        sudoku.addConstraint(constraint.AllDifferentConstraint(),\n",
    "                            cellen)\n",
    "        #print(cellen)\n",
    "\n",
    "    # Invullen aangeleverde sudoku (bekende getallen)\n",
    "    for rij in range(1, 10):\n",
    "        for kolom in range(1, 10):\n",
    "            # rij en kolom -1 vanwege index begint bij 0\n",
    "            # en de indexen niet\n",
    "            if sudokuSolve[rij-1][kolom-1] != 0:\n",
    "                #print(f'{10*rij + kolom} --> {sudokuSolve[rij-1][kolom-1]}')\n",
    "                sudoku.addConstraint(\n",
    "                    lambda var, val=sudokuSolve[rij-1][kolom-1]: var == val, \n",
    "                        (rij * 10 + kolom,)\n",
    "                    )\n",
    "\n",
    "    # Oplossingen uitrekenen\n",
    "    oplossingen = sudoku.getSolutions()\n",
    "\n",
    "    return oplossingen\n",
    "\n",
    "\n",
    "# Om de sudoku netjes weer te geven\n",
    "def print_oplossing(oplossing):\n",
    "    for rij in range(1, 10):\n",
    "        for kolom in range(1, 10):\n",
    "            print(oplossing[10*rij + kolom], end='')\n",
    "            if kolom % 3 == 0:\n",
    "                print(' ', end='')\n",
    "        print()\n",
    "        if rij % 3 == 0:\n",
    "                print()\n",
    "\n",
    "\n",
    "# Sudoku oplossen, daarna controleren of deze ook een X-Sudoku is\n",
    "def los_op(sudoku):\n",
    "    # Sudoku oplossen\n",
    "    oplossingen = sudoku_oplossen(sudoku)\n",
    "    print(f'Aantal oplossingen: {len(oplossingen)}')\n",
    "\n",
    "    for oplossing in oplossingen:\n",
    "        print_oplossing(oplossing)\n",
    "\n",
    "    # Is dit een X-Sudoku?\n",
    "    if sudoku_oplossen(sudoku, diagonaal=True):\n",
    "        print('Dit is een X-Sudoku!')\n",
    "\n",
    "        \n",
    "los_op(sudoku_deJong)"
   ]
  },
  {
   "cell_type": "markdown",
   "id": "5364c7c4",
   "metadata": {},
   "source": [
    "Om te bevestigen dat ook een [X-Sudoku](http://www.sudoku-space.com/x-sudoku/) opgelost kan worden, is onderstaande sudoku uitgewerkt."
   ]
  },
  {
   "cell_type": "code",
   "execution_count": 7,
   "id": "5aa7800a",
   "metadata": {},
   "outputs": [
    {
     "name": "stdout",
     "output_type": "stream",
     "text": [
      "296 531 874 \n",
      "834 672 519 \n",
      "175 489 263 \n",
      "\n",
      "659 723 481 \n",
      "741 865 932 \n",
      "328 914 657 \n",
      "\n",
      "967 348 125 \n",
      "482 157 396 \n",
      "513 296 748 \n",
      "\n",
      "Dit is een X-Sudoku!\n"
     ]
    }
   ],
   "source": [
    "# Sudoku snel overtypen\n",
    "sudoku_puzzle = ['206500074', '000070009', '100000060',\n",
    "                 '000003000', '000060000', '008900000',\n",
    "                 '000340105', '400000300', '500200700']\n",
    "\n",
    "# Sudoku omzetten naar list-met-lists\n",
    "sudokuXSolve = []\n",
    "for rij in sudoku_puzzle:\n",
    "    sudokuXSolve.append([ int(i) for i in rij ])\n",
    "\n",
    "# Sudoku oplossen\n",
    "oplossingen = sudoku_oplossen(sudokuXSolve, diagonaal=True)\n",
    "\n",
    "for oplossing in oplossingen:\n",
    "        print_oplossing(oplossing)\n",
    "\n",
    "# Is dit een X-Sudoku?\n",
    "if oplossingen:\n",
    "    print('Dit is een X-Sudoku!')"
   ]
  },
  {
   "cell_type": "code",
   "execution_count": null,
   "id": "410c5c14",
   "metadata": {},
   "outputs": [],
   "source": []
  }
 ],
 "metadata": {
  "kernelspec": {
   "display_name": "Python 3 (ipykernel)",
   "language": "python",
   "name": "python3"
  },
  "language_info": {
   "codemirror_mode": {
    "name": "ipython",
    "version": 3
   },
   "file_extension": ".py",
   "mimetype": "text/x-python",
   "name": "python",
   "nbconvert_exporter": "python",
   "pygments_lexer": "ipython3",
   "version": "3.10.2"
  }
 },
 "nbformat": 4,
 "nbformat_minor": 5
}
